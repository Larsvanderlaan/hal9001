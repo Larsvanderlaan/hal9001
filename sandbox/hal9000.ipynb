{
 "cells": [
  {
   "cell_type": "markdown",
   "metadata": {},
   "source": []
  },
  {
   "cell_type": "markdown",
   "metadata": {},
   "source": []
  },
  {
   "cell_type": "code",
   "execution_count": null,
   "metadata": {
    "collapsed": true
   },
   "outputs": [],
   "source": [
    "library(devtools)\n",
    "library(microbenchmark)\n",
    "#install_github(\"benkeser/halplus\")\n",
    "#install_github(\"nhejazi/lassi\")"
   ]
  },
  {
   "cell_type": "code",
   "execution_count": 5,
   "metadata": {},
   "outputs": [],
   "source": [
    "library(hal)\n",
    "library(lassi)"
   ]
  },
  {
   "cell_type": "code",
   "execution_count": 3,
   "metadata": {
    "collapsed": true
   },
   "outputs": [],
   "source": [
    "x <- matrix(rnorm(1000 * 3), 1000, 3)\n",
    "y <- sin(x[, 1]) * sin(x[, 2]) + rnorm(1000, 0, 0.2)\n",
    "\n",
    "test_x <- matrix(rnorm(1000 * 3), 1000, 3)\n",
    "test_y <- sin(test_x[, 1]) * sin(test_x[, 2]) + rnorm(1000, 0, 0.2)"
   ]
  },
  {
   "cell_type": "markdown",
   "metadata": {},
   "source": []
  },
  {
   "cell_type": "code",
   "execution_count": 10,
   "metadata": {},
   "outputs": [
    {
     "name": "stdout",
     "output_type": "stream",
     "text": [
      "Making sparse matrix \n",
      "Making 3 basis functions of dimension 1\n",
      "Making 3 basis functions of dimension 2 \n",
      "Making 1 basis functions of dimension 3 \n",
      "Finding duplicate columns \n",
      "Fitting lasso \n",
      "Done with hal\n"
     ]
    },
    {
     "data": {
      "text/html": [
       "<table>\n",
       "<thead><tr><th></th><th scope=col>user.self</th><th scope=col>sys.self</th><th scope=col>elapsed</th><th scope=col>user.child</th><th scope=col>sys.child</th></tr></thead>\n",
       "<tbody>\n",
       "\t<tr><th scope=row>sparse_matrix</th><td>  2.252</td><td> 0.424 </td><td>  2.858</td><td>0      </td><td>0      </td></tr>\n",
       "\t<tr><th scope=row>find_duplicates</th><td>  1.182</td><td> 0.064 </td><td>  1.297</td><td>0      </td><td>0      </td></tr>\n",
       "\t<tr><th scope=row>lasso</th><td>-36.138</td><td>-1.154 </td><td>-40.512</td><td>0      </td><td>0      </td></tr>\n",
       "\t<tr><th scope=row>pred</th><td>  0.000</td><td> 0.000 </td><td>  0.000</td><td>0      </td><td>0      </td></tr>\n",
       "\t<tr><th scope=row>everything</th><td> 39.572</td><td> 1.642 </td><td> 44.667</td><td>0      </td><td>0      </td></tr>\n",
       "</tbody>\n",
       "</table>\n"
      ],
      "text/latex": [
       "\\begin{tabular}{r|lllll}\n",
       "  & user.self & sys.self & elapsed & user.child & sys.child\\\\\n",
       "\\hline\n",
       "\tsparse\\_matrix &   2.252 &  0.424  &   2.858 & 0       & 0      \\\\\n",
       "\tfind\\_duplicates &   1.182 &  0.064  &   1.297 & 0       & 0      \\\\\n",
       "\tlasso & -36.138 & -1.154  & -40.512 & 0       & 0      \\\\\n",
       "\tpred &   0.000 &  0.000  &   0.000 & 0       & 0      \\\\\n",
       "\teverything &  39.572 &  1.642  &  44.667 & 0       & 0      \\\\\n",
       "\\end{tabular}\n"
      ],
      "text/markdown": [
       "\n",
       "| <!--/--> | user.self | sys.self | elapsed | user.child | sys.child | \n",
       "|---|---|---|---|---|\n",
       "| sparse_matrix |   2.252 |  0.424  |   2.858 | 0       | 0       | \n",
       "| find_duplicates |   1.182 |  0.064  |   1.297 | 0       | 0       | \n",
       "| lasso | -36.138 | -1.154  | -40.512 | 0       | 0       | \n",
       "| pred |   0.000 |  0.000  |   0.000 | 0       | 0       | \n",
       "| everything |  39.572 |  1.642  |  44.667 | 0       | 0       | \n",
       "\n",
       "\n"
      ],
      "text/plain": [
       "                user.self sys.self elapsed user.child sys.child\n",
       "sparse_matrix     2.252    0.424     2.858 0          0        \n",
       "find_duplicates   1.182    0.064     1.297 0          0        \n",
       "lasso           -36.138   -1.154   -40.512 0          0        \n",
       "pred              0.000    0.000     0.000 0          0        \n",
       "everything       39.572    1.642    44.667 0          0        "
      ]
     },
     "metadata": {},
     "output_type": "display_data"
    }
   ],
   "source": [
    "hal_fit <- hal(Y = y, X = x, verbose = TRUE)\n",
    "hal_fit$times"
   ]
  },
  {
   "cell_type": "code",
   "execution_count": null,
   "metadata": {
    "collapsed": true
   },
   "outputs": [],
   "source": [
    "m_hal <- microbenchmark(unit = \"s\", times = 10,\n",
    "  hal_fit_m <- hal(Y = y, X = x, verbose = FALSE)\n",
    ")\n",
    "summary(m_hal)"
   ]
  },
  {
   "cell_type": "markdown",
   "metadata": {},
   "source": []
  },
  {
   "cell_type": "code",
   "execution_count": 9,
   "metadata": {},
   "outputs": [
    {
     "data": {
      "text/html": [
       "<table>\n",
       "<thead><tr><th></th><th scope=col>user.self</th><th scope=col>sys.self</th><th scope=col>elapsed</th><th scope=col>user.child</th><th scope=col>sys.child</th></tr></thead>\n",
       "<tbody>\n",
       "\t<tr><th scope=row>design_matrix</th><td> 0.219</td><td>0.033 </td><td> 0.269</td><td>0     </td><td>0     </td></tr>\n",
       "\t<tr><th scope=row>remove_duplicates</th><td> 0.044</td><td>0.021 </td><td> 0.066</td><td>0     </td><td>0     </td></tr>\n",
       "\t<tr><th scope=row>lasso</th><td>18.296</td><td>0.818 </td><td>20.511</td><td>0     </td><td>0     </td></tr>\n",
       "\t<tr><th scope=row>total</th><td>18.559</td><td>0.872 </td><td>20.846</td><td>0     </td><td>0     </td></tr>\n",
       "</tbody>\n",
       "</table>\n"
      ],
      "text/latex": [
       "\\begin{tabular}{r|lllll}\n",
       "  & user.self & sys.self & elapsed & user.child & sys.child\\\\\n",
       "\\hline\n",
       "\tdesign\\_matrix &  0.219 & 0.033  &  0.269 & 0      & 0     \\\\\n",
       "\tremove\\_duplicates &  0.044 & 0.021  &  0.066 & 0      & 0     \\\\\n",
       "\tlasso & 18.296 & 0.818  & 20.511 & 0      & 0     \\\\\n",
       "\ttotal & 18.559 & 0.872  & 20.846 & 0      & 0     \\\\\n",
       "\\end{tabular}\n"
      ],
      "text/markdown": [
       "\n",
       "| <!--/--> | user.self | sys.self | elapsed | user.child | sys.child | \n",
       "|---|---|---|---|\n",
       "| design_matrix |  0.219 | 0.033  |  0.269 | 0      | 0      | \n",
       "| remove_duplicates |  0.044 | 0.021  |  0.066 | 0      | 0      | \n",
       "| lasso | 18.296 | 0.818  | 20.511 | 0      | 0      | \n",
       "| total | 18.559 | 0.872  | 20.846 | 0      | 0      | \n",
       "\n",
       "\n"
      ],
      "text/plain": [
       "                  user.self sys.self elapsed user.child sys.child\n",
       "design_matrix      0.219    0.033     0.269  0          0        \n",
       "remove_duplicates  0.044    0.021     0.066  0          0        \n",
       "lasso             18.296    0.818    20.511  0          0        \n",
       "total             18.559    0.872    20.846  0          0        "
      ]
     },
     "metadata": {},
     "output_type": "display_data"
    }
   ],
   "source": [
    "lassi_fit <- fit_hal(x, y)\n",
    "lassi_fit$times"
   ]
  },
  {
   "cell_type": "code",
   "execution_count": null,
   "metadata": {
    "collapsed": true
   },
   "outputs": [],
   "source": [
    "m_lassi <- microbenchmark(unit = \"s\", times = 10,\n",
    "  lassi_fit_m <- fit_hal(Y = y, X = x)\n",
    ")\n",
    "summary(m_lassi)"
   ]
  },
  {
   "cell_type": "code",
   "execution_count": 7,
   "metadata": {
    "collapsed": true
   },
   "outputs": [],
   "source": []
  }
 ],
 "metadata": {
  "kernelspec": {
   "display_name": "R",
   "language": "R",
   "name": "ir"
  },
  "language_info": {
   "codemirror_mode": "r",
   "file_extension": ".r",
   "mimetype": "text/x-r-source",
   "name": "R",
   "pygments_lexer": "r",
   "version": "3.4.1"
  }
 },
 "nbformat": 4,
 "nbformat_minor": 2
}
